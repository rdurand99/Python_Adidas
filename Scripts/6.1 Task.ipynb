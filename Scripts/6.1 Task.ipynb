{
 "cells": [
  {
   "cell_type": "markdown",
   "id": "8a81bfe7",
   "metadata": {},
   "source": [
    "# Task 6.1"
   ]
  },
  {
   "cell_type": "code",
   "execution_count": 1,
   "id": "4c5aa12b",
   "metadata": {},
   "outputs": [],
   "source": [
    "#Imported libraries\n",
    "import pandas as pd\n",
    "import numpy as np\n",
    "import os"
   ]
  },
  {
   "cell_type": "code",
   "execution_count": 2,
   "id": "339b3467",
   "metadata": {},
   "outputs": [],
   "source": [
    "#Imported path\n",
    "path = r'/Users/racheldurand/Desktop/Data Analytics/Achievement 6'"
   ]
  },
  {
   "cell_type": "code",
   "execution_count": 3,
   "id": "d21e078a",
   "metadata": {},
   "outputs": [
    {
     "data": {
      "text/plain": [
       "'/Users/racheldurand/Desktop/Data Analytics/Achievement 6'"
      ]
     },
     "execution_count": 3,
     "metadata": {},
     "output_type": "execute_result"
    }
   ],
   "source": [
    "path"
   ]
  },
  {
   "cell_type": "code",
   "execution_count": 4,
   "id": "0cf1f2b3",
   "metadata": {},
   "outputs": [],
   "source": [
    "#Imported Adidas US Sales Dataset.csv\n",
    "df_adidas_US = pd.read_csv(os.path.join(path, 'Original Data', 'Adidas US Sales Dataset.csv'), index_col = False)"
   ]
  },
  {
   "cell_type": "markdown",
   "id": "9c2a5810",
   "metadata": {},
   "source": [
    "# Exploring and Cleaning Data"
   ]
  },
  {
   "cell_type": "code",
   "execution_count": 5,
   "id": "9cfff9f6",
   "metadata": {
    "scrolled": true
   },
   "outputs": [
    {
     "data": {
      "text/plain": [
       "(9648, 13)"
      ]
     },
     "execution_count": 5,
     "metadata": {},
     "output_type": "execute_result"
    }
   ],
   "source": [
    "#Check shape\n",
    "df_adidas_US.shape"
   ]
  },
  {
   "cell_type": "code",
   "execution_count": 6,
   "id": "54e72da6",
   "metadata": {},
   "outputs": [
    {
     "data": {
      "text/html": [
       "<div>\n",
       "<style scoped>\n",
       "    .dataframe tbody tr th:only-of-type {\n",
       "        vertical-align: middle;\n",
       "    }\n",
       "\n",
       "    .dataframe tbody tr th {\n",
       "        vertical-align: top;\n",
       "    }\n",
       "\n",
       "    .dataframe thead th {\n",
       "        text-align: right;\n",
       "    }\n",
       "</style>\n",
       "<table border=\"1\" class=\"dataframe\">\n",
       "  <thead>\n",
       "    <tr style=\"text-align: right;\">\n",
       "      <th></th>\n",
       "      <th>Retailer</th>\n",
       "      <th>Retailer ID</th>\n",
       "      <th>Invoice Date</th>\n",
       "      <th>Region</th>\n",
       "      <th>State</th>\n",
       "      <th>City</th>\n",
       "      <th>Product</th>\n",
       "      <th>Price per Unit</th>\n",
       "      <th>Units Sold</th>\n",
       "      <th>Total Sales</th>\n",
       "      <th>Operating Profit</th>\n",
       "      <th>Operating Margin</th>\n",
       "      <th>Sales Method</th>\n",
       "    </tr>\n",
       "  </thead>\n",
       "  <tbody>\n",
       "    <tr>\n",
       "      <th>0</th>\n",
       "      <td>Foot Locker</td>\n",
       "      <td>1185732</td>\n",
       "      <td>1/1/20</td>\n",
       "      <td>Northeast</td>\n",
       "      <td>New York</td>\n",
       "      <td>New York</td>\n",
       "      <td>Men's Street Footwear</td>\n",
       "      <td>$50.00</td>\n",
       "      <td>1,200</td>\n",
       "      <td>$600,000</td>\n",
       "      <td>$300,000</td>\n",
       "      <td>50%</td>\n",
       "      <td>In-store</td>\n",
       "    </tr>\n",
       "    <tr>\n",
       "      <th>1</th>\n",
       "      <td>Foot Locker</td>\n",
       "      <td>1185732</td>\n",
       "      <td>1/2/20</td>\n",
       "      <td>Northeast</td>\n",
       "      <td>New York</td>\n",
       "      <td>New York</td>\n",
       "      <td>Men's Athletic Footwear</td>\n",
       "      <td>$50.00</td>\n",
       "      <td>1,000</td>\n",
       "      <td>$500,000</td>\n",
       "      <td>$150,000</td>\n",
       "      <td>30%</td>\n",
       "      <td>In-store</td>\n",
       "    </tr>\n",
       "    <tr>\n",
       "      <th>2</th>\n",
       "      <td>Foot Locker</td>\n",
       "      <td>1185732</td>\n",
       "      <td>1/3/20</td>\n",
       "      <td>Northeast</td>\n",
       "      <td>New York</td>\n",
       "      <td>New York</td>\n",
       "      <td>Women's Street Footwear</td>\n",
       "      <td>$40.00</td>\n",
       "      <td>1,000</td>\n",
       "      <td>$400,000</td>\n",
       "      <td>$140,000</td>\n",
       "      <td>35%</td>\n",
       "      <td>In-store</td>\n",
       "    </tr>\n",
       "    <tr>\n",
       "      <th>3</th>\n",
       "      <td>Foot Locker</td>\n",
       "      <td>1185732</td>\n",
       "      <td>1/4/20</td>\n",
       "      <td>Northeast</td>\n",
       "      <td>New York</td>\n",
       "      <td>New York</td>\n",
       "      <td>Women's Athletic Footwear</td>\n",
       "      <td>$45.00</td>\n",
       "      <td>850</td>\n",
       "      <td>$382,500</td>\n",
       "      <td>$133,875</td>\n",
       "      <td>35%</td>\n",
       "      <td>In-store</td>\n",
       "    </tr>\n",
       "    <tr>\n",
       "      <th>4</th>\n",
       "      <td>Foot Locker</td>\n",
       "      <td>1185732</td>\n",
       "      <td>1/5/20</td>\n",
       "      <td>Northeast</td>\n",
       "      <td>New York</td>\n",
       "      <td>New York</td>\n",
       "      <td>Men's Apparel</td>\n",
       "      <td>$60.00</td>\n",
       "      <td>900</td>\n",
       "      <td>$540,000</td>\n",
       "      <td>$162,000</td>\n",
       "      <td>30%</td>\n",
       "      <td>In-store</td>\n",
       "    </tr>\n",
       "  </tbody>\n",
       "</table>\n",
       "</div>"
      ],
      "text/plain": [
       "      Retailer  Retailer ID Invoice Date     Region     State      City  \\\n",
       "0  Foot Locker      1185732       1/1/20  Northeast  New York  New York   \n",
       "1  Foot Locker      1185732       1/2/20  Northeast  New York  New York   \n",
       "2  Foot Locker      1185732       1/3/20  Northeast  New York  New York   \n",
       "3  Foot Locker      1185732       1/4/20  Northeast  New York  New York   \n",
       "4  Foot Locker      1185732       1/5/20  Northeast  New York  New York   \n",
       "\n",
       "                     Product Price per Unit Units Sold Total Sales  \\\n",
       "0      Men's Street Footwear        $50.00       1,200   $600,000    \n",
       "1    Men's Athletic Footwear        $50.00       1,000   $500,000    \n",
       "2    Women's Street Footwear        $40.00       1,000   $400,000    \n",
       "3  Women's Athletic Footwear        $45.00         850   $382,500    \n",
       "4              Men's Apparel        $60.00         900   $540,000    \n",
       "\n",
       "  Operating Profit Operating Margin Sales Method  \n",
       "0        $300,000               50%     In-store  \n",
       "1        $150,000               30%     In-store  \n",
       "2        $140,000               35%     In-store  \n",
       "3        $133,875               35%     In-store  \n",
       "4        $162,000               30%     In-store  "
      ]
     },
     "execution_count": 6,
     "metadata": {},
     "output_type": "execute_result"
    }
   ],
   "source": [
    "#Check head\n",
    "df_adidas_US.head()"
   ]
  },
  {
   "cell_type": "code",
   "execution_count": 7,
   "id": "311f9e69",
   "metadata": {
    "scrolled": true
   },
   "outputs": [
    {
     "data": {
      "text/plain": [
       "Retailer            object\n",
       "Retailer ID          int64\n",
       "Invoice Date        object\n",
       "Region              object\n",
       "State               object\n",
       "City                object\n",
       "Product             object\n",
       "Price per Unit      object\n",
       "Units Sold          object\n",
       "Total Sales         object\n",
       "Operating Profit    object\n",
       "Operating Margin    object\n",
       "Sales Method        object\n",
       "dtype: object"
      ]
     },
     "execution_count": 7,
     "metadata": {},
     "output_type": "execute_result"
    }
   ],
   "source": [
    "#Check data types\n",
    "df_adidas_US.dtypes"
   ]
  },
  {
   "cell_type": "code",
   "execution_count": 8,
   "id": "4840cafd",
   "metadata": {},
   "outputs": [],
   "source": [
    "#Converting data types to float data types for better analysis\n",
    "columns_to_clean = [\"Price per Unit\", \"Total Sales\", \"Operating Profit\", \"Units Sold\"]\n",
    "for column in columns_to_clean:\n",
    "    df_adidas_US[column] = df_adidas_US[column].replace('[\\$,]', '', regex=True).astype(float)"
   ]
  },
  {
   "cell_type": "code",
   "execution_count": 9,
   "id": "9bb565d5",
   "metadata": {},
   "outputs": [],
   "source": [
    "#Converting percentage to demical to float data type\n",
    "df_adidas_US['Operating Margin'] = df_adidas_US['Operating Margin'].str.rstrip('%').astype(float) / 100"
   ]
  },
  {
   "cell_type": "code",
   "execution_count": 10,
   "id": "7972561a",
   "metadata": {},
   "outputs": [
    {
     "name": "stdout",
     "output_type": "stream",
     "text": [
      "<class 'pandas.core.frame.DataFrame'>\n",
      "RangeIndex: 9648 entries, 0 to 9647\n",
      "Data columns (total 13 columns):\n",
      " #   Column            Non-Null Count  Dtype  \n",
      "---  ------            --------------  -----  \n",
      " 0   Retailer          9648 non-null   object \n",
      " 1   Retailer ID       9648 non-null   int64  \n",
      " 2   Invoice Date      9648 non-null   object \n",
      " 3   Region            9648 non-null   object \n",
      " 4   State             9648 non-null   object \n",
      " 5   City              9648 non-null   object \n",
      " 6   Product           9648 non-null   object \n",
      " 7   Price per Unit    9648 non-null   float64\n",
      " 8   Units Sold        9648 non-null   float64\n",
      " 9   Total Sales       9648 non-null   float64\n",
      " 10  Operating Profit  9648 non-null   float64\n",
      " 11  Operating Margin  9648 non-null   float64\n",
      " 12  Sales Method      9648 non-null   object \n",
      "dtypes: float64(5), int64(1), object(7)\n",
      "memory usage: 980.0+ KB\n"
     ]
    }
   ],
   "source": [
    "df_adidas_US.info()"
   ]
  },
  {
   "cell_type": "code",
   "execution_count": 11,
   "id": "50cfba96",
   "metadata": {},
   "outputs": [
    {
     "data": {
      "text/html": [
       "<div>\n",
       "<style scoped>\n",
       "    .dataframe tbody tr th:only-of-type {\n",
       "        vertical-align: middle;\n",
       "    }\n",
       "\n",
       "    .dataframe tbody tr th {\n",
       "        vertical-align: top;\n",
       "    }\n",
       "\n",
       "    .dataframe thead th {\n",
       "        text-align: right;\n",
       "    }\n",
       "</style>\n",
       "<table border=\"1\" class=\"dataframe\">\n",
       "  <thead>\n",
       "    <tr style=\"text-align: right;\">\n",
       "      <th></th>\n",
       "      <th>Retailer</th>\n",
       "      <th>Retailer ID</th>\n",
       "      <th>Invoice Date</th>\n",
       "      <th>Region</th>\n",
       "      <th>State</th>\n",
       "      <th>City</th>\n",
       "      <th>Product</th>\n",
       "      <th>Price per Unit</th>\n",
       "      <th>Units Sold</th>\n",
       "      <th>Total Sales</th>\n",
       "      <th>Operating Profit</th>\n",
       "      <th>Operating Margin</th>\n",
       "      <th>Sales Method</th>\n",
       "      <th>Invoice Year</th>\n",
       "      <th>Invoice Month</th>\n",
       "    </tr>\n",
       "  </thead>\n",
       "  <tbody>\n",
       "    <tr>\n",
       "      <th>0</th>\n",
       "      <td>Foot Locker</td>\n",
       "      <td>1185732</td>\n",
       "      <td>1/1/20</td>\n",
       "      <td>Northeast</td>\n",
       "      <td>New York</td>\n",
       "      <td>New York</td>\n",
       "      <td>Men's Street Footwear</td>\n",
       "      <td>50.0</td>\n",
       "      <td>1200.0</td>\n",
       "      <td>600000.0</td>\n",
       "      <td>300000.0</td>\n",
       "      <td>0.50</td>\n",
       "      <td>In-store</td>\n",
       "      <td>2020</td>\n",
       "      <td>1</td>\n",
       "    </tr>\n",
       "    <tr>\n",
       "      <th>1</th>\n",
       "      <td>Foot Locker</td>\n",
       "      <td>1185732</td>\n",
       "      <td>1/2/20</td>\n",
       "      <td>Northeast</td>\n",
       "      <td>New York</td>\n",
       "      <td>New York</td>\n",
       "      <td>Men's Athletic Footwear</td>\n",
       "      <td>50.0</td>\n",
       "      <td>1000.0</td>\n",
       "      <td>500000.0</td>\n",
       "      <td>150000.0</td>\n",
       "      <td>0.30</td>\n",
       "      <td>In-store</td>\n",
       "      <td>2020</td>\n",
       "      <td>1</td>\n",
       "    </tr>\n",
       "    <tr>\n",
       "      <th>2</th>\n",
       "      <td>Foot Locker</td>\n",
       "      <td>1185732</td>\n",
       "      <td>1/3/20</td>\n",
       "      <td>Northeast</td>\n",
       "      <td>New York</td>\n",
       "      <td>New York</td>\n",
       "      <td>Women's Street Footwear</td>\n",
       "      <td>40.0</td>\n",
       "      <td>1000.0</td>\n",
       "      <td>400000.0</td>\n",
       "      <td>140000.0</td>\n",
       "      <td>0.35</td>\n",
       "      <td>In-store</td>\n",
       "      <td>2020</td>\n",
       "      <td>1</td>\n",
       "    </tr>\n",
       "    <tr>\n",
       "      <th>3</th>\n",
       "      <td>Foot Locker</td>\n",
       "      <td>1185732</td>\n",
       "      <td>1/4/20</td>\n",
       "      <td>Northeast</td>\n",
       "      <td>New York</td>\n",
       "      <td>New York</td>\n",
       "      <td>Women's Athletic Footwear</td>\n",
       "      <td>45.0</td>\n",
       "      <td>850.0</td>\n",
       "      <td>382500.0</td>\n",
       "      <td>133875.0</td>\n",
       "      <td>0.35</td>\n",
       "      <td>In-store</td>\n",
       "      <td>2020</td>\n",
       "      <td>1</td>\n",
       "    </tr>\n",
       "    <tr>\n",
       "      <th>4</th>\n",
       "      <td>Foot Locker</td>\n",
       "      <td>1185732</td>\n",
       "      <td>1/5/20</td>\n",
       "      <td>Northeast</td>\n",
       "      <td>New York</td>\n",
       "      <td>New York</td>\n",
       "      <td>Men's Apparel</td>\n",
       "      <td>60.0</td>\n",
       "      <td>900.0</td>\n",
       "      <td>540000.0</td>\n",
       "      <td>162000.0</td>\n",
       "      <td>0.30</td>\n",
       "      <td>In-store</td>\n",
       "      <td>2020</td>\n",
       "      <td>1</td>\n",
       "    </tr>\n",
       "  </tbody>\n",
       "</table>\n",
       "</div>"
      ],
      "text/plain": [
       "      Retailer  Retailer ID Invoice Date     Region     State      City  \\\n",
       "0  Foot Locker      1185732       1/1/20  Northeast  New York  New York   \n",
       "1  Foot Locker      1185732       1/2/20  Northeast  New York  New York   \n",
       "2  Foot Locker      1185732       1/3/20  Northeast  New York  New York   \n",
       "3  Foot Locker      1185732       1/4/20  Northeast  New York  New York   \n",
       "4  Foot Locker      1185732       1/5/20  Northeast  New York  New York   \n",
       "\n",
       "                     Product  Price per Unit  Units Sold  Total Sales  \\\n",
       "0      Men's Street Footwear            50.0      1200.0     600000.0   \n",
       "1    Men's Athletic Footwear            50.0      1000.0     500000.0   \n",
       "2    Women's Street Footwear            40.0      1000.0     400000.0   \n",
       "3  Women's Athletic Footwear            45.0       850.0     382500.0   \n",
       "4              Men's Apparel            60.0       900.0     540000.0   \n",
       "\n",
       "   Operating Profit  Operating Margin Sales Method  Invoice Year  \\\n",
       "0          300000.0              0.50     In-store          2020   \n",
       "1          150000.0              0.30     In-store          2020   \n",
       "2          140000.0              0.35     In-store          2020   \n",
       "3          133875.0              0.35     In-store          2020   \n",
       "4          162000.0              0.30     In-store          2020   \n",
       "\n",
       "   Invoice Month  \n",
       "0              1  \n",
       "1              1  \n",
       "2              1  \n",
       "3              1  \n",
       "4              1  "
      ]
     },
     "execution_count": 11,
     "metadata": {},
     "output_type": "execute_result"
    }
   ],
   "source": [
    "#Adding year and month individual columns for better analysis\n",
    "df_adidas_US['Invoice Year']=pd.to_datetime(df_adidas_US['Invoice Date']).dt.year\n",
    "df_adidas_US['Invoice Month']=pd.to_datetime(df_adidas_US['Invoice Date']).dt.month\n",
    "df_adidas_US.head()"
   ]
  },
  {
   "cell_type": "markdown",
   "id": "083b8ea1",
   "metadata": {},
   "source": [
    "# Deleted Column(s)"
   ]
  },
  {
   "cell_type": "code",
   "execution_count": 12,
   "id": "a374a6ab",
   "metadata": {},
   "outputs": [],
   "source": [
    "#Deleted Retailer ID column because it is not necessary for analysis\n",
    "df_adidas_US = df_adidas_US.drop(columns=['Retailer ID'])"
   ]
  },
  {
   "cell_type": "code",
   "execution_count": 13,
   "id": "0d31f3d7",
   "metadata": {},
   "outputs": [
    {
     "data": {
      "text/plain": [
       "Index(['Retailer', 'Invoice Date', 'Region', 'State', 'City', 'Product',\n",
       "       'Price per Unit', 'Units Sold', 'Total Sales', 'Operating Profit',\n",
       "       'Operating Margin', 'Sales Method', 'Invoice Year', 'Invoice Month'],\n",
       "      dtype='object')"
      ]
     },
     "execution_count": 13,
     "metadata": {},
     "output_type": "execute_result"
    }
   ],
   "source": [
    "df_adidas_US.columns"
   ]
  },
  {
   "cell_type": "markdown",
   "id": "815e859c",
   "metadata": {},
   "source": [
    "# Missing Data"
   ]
  },
  {
   "cell_type": "code",
   "execution_count": 14,
   "id": "b5271467",
   "metadata": {
    "scrolled": false
   },
   "outputs": [
    {
     "data": {
      "text/plain": [
       "Retailer            0\n",
       "Invoice Date        0\n",
       "Region              0\n",
       "State               0\n",
       "City                0\n",
       "Product             0\n",
       "Price per Unit      0\n",
       "Units Sold          0\n",
       "Total Sales         0\n",
       "Operating Profit    0\n",
       "Operating Margin    0\n",
       "Sales Method        0\n",
       "Invoice Year        0\n",
       "Invoice Month       0\n",
       "dtype: int64"
      ]
     },
     "execution_count": 14,
     "metadata": {},
     "output_type": "execute_result"
    }
   ],
   "source": [
    "#Check for missing values \n",
    "df_adidas_US.isnull().sum()"
   ]
  },
  {
   "cell_type": "markdown",
   "id": "151252e7",
   "metadata": {},
   "source": [
    "# Checking For Duplicates"
   ]
  },
  {
   "cell_type": "code",
   "execution_count": 15,
   "id": "6b43cce4",
   "metadata": {},
   "outputs": [],
   "source": [
    "#Check for duplicates\n",
    "df_duplicates = df_adidas_US[df_adidas_US.duplicated()]"
   ]
  },
  {
   "cell_type": "code",
   "execution_count": 16,
   "id": "75afa452",
   "metadata": {},
   "outputs": [
    {
     "data": {
      "text/plain": [
       "(9648, 14)"
      ]
     },
     "execution_count": 16,
     "metadata": {},
     "output_type": "execute_result"
    }
   ],
   "source": [
    "#Check duplicates by looking at the shape\n",
    "df_adidas_US.shape"
   ]
  },
  {
   "cell_type": "code",
   "execution_count": 17,
   "id": "5cbbcbb2",
   "metadata": {
    "scrolled": false
   },
   "outputs": [
    {
     "data": {
      "text/html": [
       "<div>\n",
       "<style scoped>\n",
       "    .dataframe tbody tr th:only-of-type {\n",
       "        vertical-align: middle;\n",
       "    }\n",
       "\n",
       "    .dataframe tbody tr th {\n",
       "        vertical-align: top;\n",
       "    }\n",
       "\n",
       "    .dataframe thead th {\n",
       "        text-align: right;\n",
       "    }\n",
       "</style>\n",
       "<table border=\"1\" class=\"dataframe\">\n",
       "  <thead>\n",
       "    <tr style=\"text-align: right;\">\n",
       "      <th></th>\n",
       "      <th>Retailer</th>\n",
       "      <th>Invoice Date</th>\n",
       "      <th>Region</th>\n",
       "      <th>State</th>\n",
       "      <th>City</th>\n",
       "      <th>Product</th>\n",
       "      <th>Price per Unit</th>\n",
       "      <th>Units Sold</th>\n",
       "      <th>Total Sales</th>\n",
       "      <th>Operating Profit</th>\n",
       "      <th>Operating Margin</th>\n",
       "      <th>Sales Method</th>\n",
       "      <th>Invoice Year</th>\n",
       "      <th>Invoice Month</th>\n",
       "    </tr>\n",
       "  </thead>\n",
       "  <tbody>\n",
       "  </tbody>\n",
       "</table>\n",
       "</div>"
      ],
      "text/plain": [
       "Empty DataFrame\n",
       "Columns: [Retailer, Invoice Date, Region, State, City, Product, Price per Unit, Units Sold, Total Sales, Operating Profit, Operating Margin, Sales Method, Invoice Year, Invoice Month]\n",
       "Index: []"
      ]
     },
     "execution_count": 17,
     "metadata": {},
     "output_type": "execute_result"
    }
   ],
   "source": [
    "df_duplicates"
   ]
  },
  {
   "cell_type": "code",
   "execution_count": 18,
   "id": "4f34960b",
   "metadata": {
    "scrolled": true
   },
   "outputs": [],
   "source": [
    "#No duplicates found."
   ]
  },
  {
   "cell_type": "markdown",
   "id": "73fad03f",
   "metadata": {},
   "source": [
    "# Descriptive Statistics"
   ]
  },
  {
   "cell_type": "code",
   "execution_count": 19,
   "id": "5afe6312",
   "metadata": {
    "scrolled": true
   },
   "outputs": [
    {
     "data": {
      "text/html": [
       "<div>\n",
       "<style scoped>\n",
       "    .dataframe tbody tr th:only-of-type {\n",
       "        vertical-align: middle;\n",
       "    }\n",
       "\n",
       "    .dataframe tbody tr th {\n",
       "        vertical-align: top;\n",
       "    }\n",
       "\n",
       "    .dataframe thead th {\n",
       "        text-align: right;\n",
       "    }\n",
       "</style>\n",
       "<table border=\"1\" class=\"dataframe\">\n",
       "  <thead>\n",
       "    <tr style=\"text-align: right;\">\n",
       "      <th></th>\n",
       "      <th>Price per Unit</th>\n",
       "      <th>Units Sold</th>\n",
       "      <th>Total Sales</th>\n",
       "      <th>Operating Profit</th>\n",
       "      <th>Operating Margin</th>\n",
       "      <th>Invoice Year</th>\n",
       "      <th>Invoice Month</th>\n",
       "    </tr>\n",
       "  </thead>\n",
       "  <tbody>\n",
       "    <tr>\n",
       "      <th>count</th>\n",
       "      <td>9648.00</td>\n",
       "      <td>9648.00</td>\n",
       "      <td>9648.00</td>\n",
       "      <td>9648.00</td>\n",
       "      <td>9648.00</td>\n",
       "      <td>9648.00</td>\n",
       "      <td>9648.00</td>\n",
       "    </tr>\n",
       "    <tr>\n",
       "      <th>mean</th>\n",
       "      <td>45.22</td>\n",
       "      <td>256.93</td>\n",
       "      <td>93273.44</td>\n",
       "      <td>34425.28</td>\n",
       "      <td>0.42</td>\n",
       "      <td>2020.87</td>\n",
       "      <td>6.46</td>\n",
       "    </tr>\n",
       "    <tr>\n",
       "      <th>std</th>\n",
       "      <td>14.71</td>\n",
       "      <td>214.25</td>\n",
       "      <td>141916.02</td>\n",
       "      <td>54193.12</td>\n",
       "      <td>0.10</td>\n",
       "      <td>0.34</td>\n",
       "      <td>3.45</td>\n",
       "    </tr>\n",
       "    <tr>\n",
       "      <th>min</th>\n",
       "      <td>7.00</td>\n",
       "      <td>0.00</td>\n",
       "      <td>0.00</td>\n",
       "      <td>0.00</td>\n",
       "      <td>0.10</td>\n",
       "      <td>2020.00</td>\n",
       "      <td>1.00</td>\n",
       "    </tr>\n",
       "    <tr>\n",
       "      <th>25%</th>\n",
       "      <td>35.00</td>\n",
       "      <td>106.00</td>\n",
       "      <td>4254.50</td>\n",
       "      <td>1922.00</td>\n",
       "      <td>0.35</td>\n",
       "      <td>2021.00</td>\n",
       "      <td>3.00</td>\n",
       "    </tr>\n",
       "    <tr>\n",
       "      <th>50%</th>\n",
       "      <td>45.00</td>\n",
       "      <td>176.00</td>\n",
       "      <td>9576.00</td>\n",
       "      <td>4371.50</td>\n",
       "      <td>0.41</td>\n",
       "      <td>2021.00</td>\n",
       "      <td>6.00</td>\n",
       "    </tr>\n",
       "    <tr>\n",
       "      <th>75%</th>\n",
       "      <td>55.00</td>\n",
       "      <td>350.00</td>\n",
       "      <td>150000.00</td>\n",
       "      <td>52063.00</td>\n",
       "      <td>0.49</td>\n",
       "      <td>2021.00</td>\n",
       "      <td>9.00</td>\n",
       "    </tr>\n",
       "    <tr>\n",
       "      <th>max</th>\n",
       "      <td>110.00</td>\n",
       "      <td>1275.00</td>\n",
       "      <td>825000.00</td>\n",
       "      <td>390000.00</td>\n",
       "      <td>0.80</td>\n",
       "      <td>2021.00</td>\n",
       "      <td>12.00</td>\n",
       "    </tr>\n",
       "  </tbody>\n",
       "</table>\n",
       "</div>"
      ],
      "text/plain": [
       "       Price per Unit  Units Sold  Total Sales  Operating Profit  \\\n",
       "count         9648.00     9648.00      9648.00           9648.00   \n",
       "mean            45.22      256.93     93273.44          34425.28   \n",
       "std             14.71      214.25    141916.02          54193.12   \n",
       "min              7.00        0.00         0.00              0.00   \n",
       "25%             35.00      106.00      4254.50           1922.00   \n",
       "50%             45.00      176.00      9576.00           4371.50   \n",
       "75%             55.00      350.00    150000.00          52063.00   \n",
       "max            110.00     1275.00    825000.00         390000.00   \n",
       "\n",
       "       Operating Margin  Invoice Year  Invoice Month  \n",
       "count           9648.00       9648.00        9648.00  \n",
       "mean               0.42       2020.87           6.46  \n",
       "std                0.10          0.34           3.45  \n",
       "min                0.10       2020.00           1.00  \n",
       "25%                0.35       2021.00           3.00  \n",
       "50%                0.41       2021.00           6.00  \n",
       "75%                0.49       2021.00           9.00  \n",
       "max                0.80       2021.00          12.00  "
      ]
     },
     "execution_count": 19,
     "metadata": {},
     "output_type": "execute_result"
    }
   ],
   "source": [
    "df_adidas_US.describe().round(2)"
   ]
  },
  {
   "cell_type": "markdown",
   "id": "141e7810",
   "metadata": {},
   "source": [
    "# Export into csv and pickle file"
   ]
  },
  {
   "cell_type": "code",
   "execution_count": 20,
   "id": "2551d1b8",
   "metadata": {},
   "outputs": [],
   "source": [
    "#Exported into csv file\n",
    "df_adidas_US.to_csv(os.path.join(path, 'Prepared Data', 'df_adidas_US_clean.csv'))"
   ]
  },
  {
   "cell_type": "code",
   "execution_count": 21,
   "id": "c10674a3",
   "metadata": {},
   "outputs": [],
   "source": [
    "#Export into pickle file\n",
    "df_adidas_US.to_pickle(os.path.join(path, 'Prepared Data','df_adidas_US_clean.pkl'))"
   ]
  }
 ],
 "metadata": {
  "kernelspec": {
   "display_name": "Python 3 (ipykernel)",
   "language": "python",
   "name": "python3"
  },
  "language_info": {
   "codemirror_mode": {
    "name": "ipython",
    "version": 3
   },
   "file_extension": ".py",
   "mimetype": "text/x-python",
   "name": "python",
   "nbconvert_exporter": "python",
   "pygments_lexer": "ipython3",
   "version": "3.10.9"
  }
 },
 "nbformat": 4,
 "nbformat_minor": 5
}
